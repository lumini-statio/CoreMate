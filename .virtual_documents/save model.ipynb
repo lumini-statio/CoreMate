import tensorflow as tf
from tensorflow import keras
from tensorflow.keras import layers
import polars as pl
import numpy as np
